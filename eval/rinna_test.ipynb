{
 "cells": [
  {
   "cell_type": "code",
   "execution_count": null,
   "id": "ae2502aa-fb75-4544-9b14-64ee1fdd99b2",
   "metadata": {},
   "outputs": [],
   "source": [
    "# rinna test"
   ]
  },
  {
   "cell_type": "code",
   "execution_count": 1,
   "id": "e8e0741d-2daf-4cf9-ad3f-4c48ad5cd7f7",
   "metadata": {},
   "outputs": [
    {
     "name": "stdout",
     "output_type": "stream",
     "text": [
      "ユーザー: コンタクトレンズを慣れるにはどうすればよいですか？<NL>システム: これについて具体的に説明していただけますか？何が難しいのでしょうか？<NL>ユーザー: 目が痛いのです。<NL>システム: 分かりました、コンタクトレンズをつけると目がかゆくなるということですね。思った以上にレンズを外す必要があるでしょうか？<NL>ユーザー: いえ、レンズは外しませんが、目が赤くなるんです。<NL>システム: \n"
     ]
    }
   ],
   "source": [
    "prompt = [\n",
    "    {\n",
    "        \"speaker\": \"ユーザー\",\n",
    "        \"text\": \"コンタクトレンズを慣れるにはどうすればよいですか？\"\n",
    "    },\n",
    "    {\n",
    "        \"speaker\": \"システム\",\n",
    "        \"text\": \"これについて具体的に説明していただけますか？何が難しいのでしょうか？\"\n",
    "    },\n",
    "    {\n",
    "        \"speaker\": \"ユーザー\",\n",
    "        \"text\": \"目が痛いのです。\"\n",
    "    },\n",
    "    {\n",
    "        \"speaker\": \"システム\",\n",
    "        \"text\": \"分かりました、コンタクトレンズをつけると目がかゆくなるということですね。思った以上にレンズを外す必要があるでしょうか？\"\n",
    "    },\n",
    "    {\n",
    "        \"speaker\": \"ユーザー\",\n",
    "        \"text\": \"いえ、レンズは外しませんが、目が赤くなるんです。\"\n",
    "    }\n",
    "]\n",
    "prompt = [\n",
    "    f\"{uttr['speaker']}: {uttr['text']}\"\n",
    "    for uttr in prompt\n",
    "]\n",
    "prompt = \"<NL>\".join(prompt)\n",
    "prompt = (\n",
    "    prompt\n",
    "    + \"<NL>\"\n",
    "    + \"システム: \"\n",
    ")\n",
    "print(prompt)\n",
    "# \"ユーザー: コンタクトレンズを慣れるにはどうすればよいですか？<NL>システム: これについて具体的に説明していただけますか？何が難しいのでしょうか？<NL>ユーザー: 目が痛いのです。<NL>システム: 分かりました、コンタクトレンズをつけると目がかゆくなるということですね。思った以上にレンズを外す必要があるでしょうか？<NL>ユーザー: いえ、レンズは外しませんが、目が赤くなるんです。<NL>システム: \""
   ]
  },
  {
   "cell_type": "code",
   "execution_count": 2,
   "id": "8e27c18b-c067-481f-934a-37d78624f657",
   "metadata": {},
   "outputs": [
    {
     "name": "stderr",
     "output_type": "stream",
     "text": [
      "/home/passaglia/miniconda3/envs/japanese-alpaca-lora/lib/python3.10/site-packages/tqdm/auto.py:21: TqdmWarning: IProgress not found. Please update jupyter and ipywidgets. See https://ipywidgets.readthedocs.io/en/stable/user_install.html\n",
      "  from .autonotebook import tqdm as notebook_tqdm\n"
     ]
    },
    {
     "name": "stdout",
     "output_type": "stream",
     "text": [
      "それはコンタクトレンズが乾燥していることが原因である可能性があります。レンズを潤滑させるために、石鹸や洗顔料を使ってみてください。また、コンタクトレンズを清潔に保つために、定期的にケアすることが大切です。コンタクトレンズ用の洗浄液や消毒剤を使用することで、レンズを清潔に保ち、目の刺激を最小限に抑えることができます。</s>\n"
     ]
    },
    {
     "data": {
      "text/plain": [
       "'それは、コンタクトレンズが目に合わないために起こることがあります。レンズが目の表面に長時間触れ続けることが原因となることがあります。また、コンタクトレンズが汚れている可能性もあります。コンタクトレンズケースを定期的に洗浄したり、コンタクトレンズを正しくフィットさせるようにしたりすることが役立ちます。</s>'"
      ]
     },
     "execution_count": 2,
     "metadata": {},
     "output_type": "execute_result"
    }
   ],
   "source": [
    "import torch\n",
    "from transformers import AutoTokenizer, AutoModelForCausalLM\n",
    "\n",
    "tokenizer = AutoTokenizer.from_pretrained(\"rinna/japanese-gpt-neox-3.6b-instruction-ppo\", use_fast=False)\n",
    "model = AutoModelForCausalLM.from_pretrained(\"rinna/japanese-gpt-neox-3.6b-instruction-ppo\")\n",
    "\n",
    "if torch.cuda.is_available():\n",
    "    model = model.to(\"cuda\")\n",
    "\n",
    "token_ids = tokenizer.encode(prompt, add_special_tokens=False, return_tensors=\"pt\")\n",
    "\n",
    "\n",
    "with torch.no_grad():\n",
    "    output_ids = model.generate(\n",
    "        token_ids.to(model.device),\n",
    "        do_sample=True,\n",
    "        max_new_tokens=128,\n",
    "        temperature=0.7,\n",
    "        repetition_penalty=1.1,\n",
    "        pad_token_id=tokenizer.pad_token_id,\n",
    "        bos_token_id=tokenizer.bos_token_id,\n",
    "        eos_token_id=tokenizer.eos_token_id\n",
    "    )\n",
    "\n",
    "output = tokenizer.decode(output_ids.tolist()[0][token_ids.size(1):])\n",
    "output = output.replace(\"<NL>\", \"\\n\")\n",
    "print(output)\n",
    "\n"
   ]
  },
  {
   "cell_type": "code",
   "execution_count": 8,
   "id": "8a5583c3-454b-41a3-93a6-c54b4e4830ad",
   "metadata": {},
   "outputs": [],
   "source": [
    "token_ids_2 = tokenizer([prompt], return_tensors=\"pt\", add_special_tokens=False)"
   ]
  },
  {
   "cell_type": "code",
   "execution_count": 9,
   "id": "007e4fc3-81c7-4cc2-bc33-73b930478b12",
   "metadata": {},
   "outputs": [
    {
     "data": {
      "text/plain": [
       "{'input_ids': tensor([[ 6822,   276,   263, 26292,  9724,   277, 28375,   325,   323,  1722,\n",
       "          6644,  5866, 18405,  1615,  4506,   536,   583,  2680,  1013,   276,\n",
       "           263,  1553,   906, 30019,   275,  4465,   550,  1654,  3002,   392,\n",
       "          1615,  2058,   274, 12337,   268,   278,  1589,   392,  1615,  4506,\n",
       "           536,   583,  2680,  6822,   276,   263,   619,   274,  5272,   388,\n",
       "           268,  3562,   265,  4506,   536,   583,  2680,  1013,   276,   263,\n",
       "           349,  5488,  5736,   264, 26292,  9724, 14528,   280,   619,   274,\n",
       "           392,  7673,  2207, 19362,   564,  1150,   265,  3705,   561,  1545,\n",
       "           275,  9724,   277,   670,   564, 11850,   278,  1589,   392,  1615,\n",
       "          4506,   536,   583,  2680,  6822,   276,   263, 20903,   264,  9724,\n",
       "           271,   670,   292, 10928,   274,   264,   619,   274,  1182,  8790,\n",
       "         22421,   265,  4506,   536,   583,  2680,  1013,   276,   263]]), 'attention_mask': tensor([[1, 1, 1, 1, 1, 1, 1, 1, 1, 1, 1, 1, 1, 1, 1, 1, 1, 1, 1, 1, 1, 1, 1, 1,\n",
       "         1, 1, 1, 1, 1, 1, 1, 1, 1, 1, 1, 1, 1, 1, 1, 1, 1, 1, 1, 1, 1, 1, 1, 1,\n",
       "         1, 1, 1, 1, 1, 1, 1, 1, 1, 1, 1, 1, 1, 1, 1, 1, 1, 1, 1, 1, 1, 1, 1, 1,\n",
       "         1, 1, 1, 1, 1, 1, 1, 1, 1, 1, 1, 1, 1, 1, 1, 1, 1, 1, 1, 1, 1, 1, 1, 1,\n",
       "         1, 1, 1, 1, 1, 1, 1, 1, 1, 1, 1, 1, 1, 1, 1, 1, 1, 1, 1, 1, 1, 1, 1]])}"
      ]
     },
     "execution_count": 9,
     "metadata": {},
     "output_type": "execute_result"
    }
   ],
   "source": [
    "token_ids_2"
   ]
  },
  {
   "cell_type": "code",
   "execution_count": 6,
   "id": "9fda9d58-867a-4d3c-99f2-3ba42b02d47e",
   "metadata": {},
   "outputs": [
    {
     "data": {
      "text/plain": [
       "tensor([[ 6822,   276,   263, 26292,  9724,   277, 28375,   325,   323,  1722,\n",
       "          6644,  5866, 18405,  1615,  4506,   536,   583,  2680,  1013,   276,\n",
       "           263,  1553,   906, 30019,   275,  4465,   550,  1654,  3002,   392,\n",
       "          1615,  2058,   274, 12337,   268,   278,  1589,   392,  1615,  4506,\n",
       "           536,   583,  2680,  6822,   276,   263,   619,   274,  5272,   388,\n",
       "           268,  3562,   265,  4506,   536,   583,  2680,  1013,   276,   263,\n",
       "           349,  5488,  5736,   264, 26292,  9724, 14528,   280,   619,   274,\n",
       "           392,  7673,  2207, 19362,   564,  1150,   265,  3705,   561,  1545,\n",
       "           275,  9724,   277,   670,   564, 11850,   278,  1589,   392,  1615,\n",
       "          4506,   536,   583,  2680,  6822,   276,   263, 20903,   264,  9724,\n",
       "           271,   670,   292, 10928,   274,   264,   619,   274,  1182,  8790,\n",
       "         22421,   265,  4506,   536,   583,  2680,  1013,   276,   263]])"
      ]
     },
     "execution_count": 6,
     "metadata": {},
     "output_type": "execute_result"
    }
   ],
   "source": [
    "token_ids"
   ]
  },
  {
   "cell_type": "code",
   "execution_count": 4,
   "id": "ba3fbb24-531c-41c6-b53a-b8566b36d1c9",
   "metadata": {},
   "outputs": [
    {
     "data": {
      "text/plain": [
       "'ユーザー: コンタクトレンズを慣れるにはどうすればよいですか？<NL>システム: これについて具体的に説明していただけますか？何が難しいのでしょうか？<NL>ユーザー: 目が痛いのです。<NL>システム: 分かりました、コンタクトレンズをつけると目がかゆくなるということですね。思った以上にレンズを外す必要があるでしょうか？<NL>ユーザー: いえ、レンズは外しませんが、目が赤くなるんです。<NL>システム: '"
      ]
     },
     "execution_count": 4,
     "metadata": {},
     "output_type": "execute_result"
    }
   ],
   "source": [
    "prompt"
   ]
  },
  {
   "cell_type": "code",
   "execution_count": 3,
   "id": "91b852c1-1d15-42ed-bd49-e1bf49a27735",
   "metadata": {},
   "outputs": [
    {
     "name": "stdout",
     "output_type": "stream",
     "text": [
      "それはコンタクトレンズが乾燥していることが原因である可能性があります。レンズを潤滑させるために、石鹸や洗顔料を使ってみてください。また、コンタクトレンズを清潔に保つために、定期的にケアすることが大切です。コンタクトレンズ用の洗浄液や消毒剤を使用することで、レンズを清潔に保ち、目の刺激を最小限に抑えることができます。</s>\n"
     ]
    }
   ],
   "source": [
    "print(output)\n"
   ]
  },
  {
   "cell_type": "code",
   "execution_count": null,
   "id": "8005eaa9-d962-4be0-a16c-6113b8b4ba93",
   "metadata": {},
   "outputs": [],
   "source": []
  }
 ],
 "metadata": {
  "kernelspec": {
   "display_name": "japanese-alpaca-lora",
   "language": "python",
   "name": "japanese-alpaca-lora"
  },
  "language_info": {
   "codemirror_mode": {
    "name": "ipython",
    "version": 3
   },
   "file_extension": ".py",
   "mimetype": "text/x-python",
   "name": "python",
   "nbconvert_exporter": "python",
   "pygments_lexer": "ipython3",
   "version": "3.10.8"
  }
 },
 "nbformat": 4,
 "nbformat_minor": 5
}
